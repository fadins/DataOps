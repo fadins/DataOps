{
 "cells": [
  {
   "cell_type": "markdown",
   "metadata": {},
   "source": [
    "## Домашнее задание к лекции \"Введение в типы данных и циклы. Часть 1\""
   ]
  },
  {
   "cell_type": "markdown",
   "metadata": {},
   "source": [
    "### Задание 1\n",
    "Дана переменная, в которой хранится слово из латинских букв. Напишите код, который выводит на экран:\n",
    "\n",
    "* среднюю букву, если число букв в слове нечетное;\n",
    "* две средних буквы, если число букв четное.\n",
    "\n",
    "##### Примеры работы программы:\n",
    "\n",
    "1. word = 'test'\n",
    "    Результат:\n",
    "    es\n",
    "\n",
    "1. word = 'testing'\n",
    "    Результат:\n",
    "    t"
   ]
  },
  {
   "cell_type": "code",
   "execution_count": 36,
   "metadata": {},
   "outputs": [
    {
     "name": "stdout",
     "output_type": "stream",
     "text": [
      "Результат: t\n"
     ]
    }
   ],
   "source": [
    "word = 'testing'\n",
    "a = len(word)\n",
    "\n",
    "if len(word) % 2 == 0:\n",
    "    print('Результат: {0}'.format(word[a//2-1:a//2+1]))\n",
    "elif len(word) % 2 != 0:\n",
    "    print('Результат: {}'.format(word[a//2:a//2+1]))"
   ]
  },
  {
   "cell_type": "markdown",
   "metadata": {},
   "source": [
    "### Задание 2\n",
    "#### Напишите программу, которая последовательно запрашивает у пользователя числа (по одному за раз) и после первого нуля выводит сумму всех ранее введенных чисел.\n",
    "\n",
    "##### Примеры работы программы:\n",
    "\n",
    "    1.\n",
    "    Введите число:  \n",
    "    1\n",
    "\n",
    "    Введите число:  \n",
    "    4\n",
    "\n",
    "    Введите число:  \n",
    "    6\n",
    "\n",
    "    Введите число:  \n",
    "    0\n",
    "    \n",
    "    Результат:\n",
    "    11\n",
    "\n",
    "    2.\n",
    "    Введите число:  \n",
    "    0\n",
    "    Результат:\n",
    "    0"
   ]
  },
  {
   "cell_type": "code",
   "execution_count": 5,
   "metadata": {},
   "outputs": [
    {
     "name": "stdout",
     "output_type": "stream",
     "text": [
      "Введите число: 1\n",
      "Введите число: 4\n",
      "Введите число: 6\n",
      "Введите число: 0\n"
     ]
    },
    {
     "data": {
      "text/plain": [
       "'Результат: 11'"
      ]
     },
     "execution_count": 5,
     "metadata": {},
     "output_type": "execute_result"
    }
   ],
   "source": [
    "s = 0\n",
    "a = 3\n",
    "while a != 0:\n",
    "    a = int(input('Введите число: '))\n",
    "#     print(a)\n",
    "    s+=a\n",
    "'Результат: {}'.format(s)"
   ]
  },
  {
   "cell_type": "markdown",
   "metadata": {},
   "source": [
    "### Задание 3\n",
    "#### Мы делаем MVP dating-сервиса, и у нас есть список парней и девушек. Выдвигаем гипотезу: лучшие рекомендации мы получим, если просто отсортируем имена по алфавиту и познакомим людей с одинаковыми индексами после сортировки! Но мы не будем никого знакомить, если кто-то может остаться без пары:\n",
    "\n",
    "##### Примеры работы программы:\n",
    "    1.\n",
    "    \n",
    "    boys = ['Peter', 'Alex', 'John', 'Arthur', 'Richard']\n",
    "    girls = ['Kate', 'Liza', 'Kira', 'Emma', 'Trisha']\n",
    "    \n",
    "    Результат:\n",
    "\n",
    "    Идеальные пары:  \n",
    "    Alex и Emma  \n",
    "    Arthur и Kate  \n",
    "    John и Kira  \n",
    "    Peter и Liza  \n",
    "    Richard и Trisha\n",
    "    \n",
    "    2.\n",
    "    \n",
    "    boys = ['Peter', 'Alex', 'John', 'Arthur', 'Richard', 'Michael']\n",
    "    girls = ['Kate', 'Liza', 'Kira', 'Emma', 'Trisha']\n",
    "    \n",
    "    Результат:\n",
    "    Внимание, кто-то может остаться без пары!"
   ]
  },
  {
   "cell_type": "code",
   "execution_count": 34,
   "metadata": {},
   "outputs": [
    {
     "name": "stdout",
     "output_type": "stream",
     "text": [
      "Идеальные пары:\n",
      "Alex и Emma\n",
      "Arthur и Kate\n",
      "John и Kira\n",
      "Peter и Liza\n",
      "Richard и Trisha\n"
     ]
    }
   ],
   "source": [
    "boys = ['Peter', 'Alex', 'John', 'Arthur', 'Richard']\n",
    "girls = ['Kate', 'Liza', 'Kira', 'Emma', 'Trisha']\n",
    "boys.sort()\n",
    "girls.sort()\n",
    "if len(boys) == len(girls):\n",
    "    pairs = zip(boys,girls)\n",
    "    print('Идеальные пары:')\n",
    "    pairs = list(pairs)    \n",
    "    for pair in pairs:\n",
    "        print('{} и {}'.format(pair[0],pair[1]))\n",
    "else:\n",
    "    print('Внимание, кто-то может остаться без пары!')\n",
    "\n"
   ]
  },
  {
   "cell_type": "markdown",
   "metadata": {},
   "source": [
    "### Задание 4\n",
    "#### У нас есть список, содержащий информацию о среднедневной температуре в Фаренгейтах за произвольный период по странам (структура данных в примере). Необходимо написать код, который рассчитает среднюю температуру за период в Цельсиях(!) для каждой страны.\n",
    "\n",
    "    Пример работы программы:\n",
    "\n",
    "    countries_temperature = [\n",
    "    ['Thailand', [75.2, 77, 78.8, 73.4, 68, 75.2, 77]],\n",
    "    ['Germany', [57.2, 55.4, 59, 59, 53.6]],\n",
    "    ['Russia', [35.6, 37.4, 39.2, 41, 42.8, 39.2, 35.6]],\n",
    "    ['Poland', [50, 50, 53.6, 57.2, 55.4, 55.4]]\n",
    "    ]\n",
    "    \n",
    "    Результат:\n",
    "\n",
    "    Средняя температура в странах:\n",
    "    Thailand  -  23.9 С\n",
    "    Germany  -  13.8 С\n",
    "    Russia  -  3.7 С\n",
    "    Poland  -  12.0 С"
   ]
  },
  {
   "cell_type": "code",
   "execution_count": 65,
   "metadata": {},
   "outputs": [
    {
     "name": "stdout",
     "output_type": "stream",
     "text": [
      "Средняя температура в странах:\n",
      "Thailand - 23.9 C\n",
      "Germany - 13.8 C\n",
      "Russia - 3.7 C\n",
      "Poland - 12.0 C\n"
     ]
    }
   ],
   "source": [
    "countries_temperature = [\n",
    "['Thailand', [75.2, 77, 78.8, 73.4, 68, 75.2, 77]],\n",
    "['Germany', [57.2, 55.4, 59, 59, 53.6]],\n",
    "['Russia', [35.6, 37.4, 39.2, 41, 42.8, 39.2, 35.6]],\n",
    "['Poland', [50, 50, 53.6, 57.2, 55.4, 55.4]]\n",
    "]\n",
    "\n",
    "print('Средняя температура в странах:')\n",
    "for countrie in countries_temperature:\n",
    "    T_far = sum(countrie[1])/len(countrie[1])\n",
    "    T_cels = (T_far - 32) * 5/9\n",
    "    print('{0} - {1} C'.format(countrie[0], round(T_cels,1)))"
   ]
  },
  {
   "cell_type": "markdown",
   "metadata": {},
   "source": [
    "### Задание 5 (необязательное)\n",
    "#### Дан поток логов по количеству просмотренных страниц для каждого пользователя. Вам необходимо написать алгоритм, который считает среднее значение просмотров на пользователя. Т. е. надо посчитать отношение суммы всех просмотров к количеству уникальных пользователей.\n",
    "\n",
    "    Примеры работы программы:\n",
    "\n",
    "    stream = [\n",
    "    '2018-01-01,user1,3',\n",
    "    '2018-01-07,user1,4',\n",
    "    '2018-03-29,user1,1',\n",
    "    '2018-04-04,user1,13',\n",
    "    '2018-01-05,user2,7',\n",
    "    '2018-06-14,user3,4',\n",
    "    '2018-07-02,user3,10',\n",
    "    '2018-03-21,user4,19',\n",
    "    '2018-03-22,user4,4',\n",
    "    '2018-04-22,user4,8',\n",
    "    '2018-05-03,user4,9',\n",
    "    '2018-05-11,user4,11',\n",
    "    ]\n",
    "\n",
    "    Результат:\n",
    "    Среднее количество просмотров на уникального пользователя: 23.25\n",
    "\n",
    "    stream = [\n",
    "    '2018-01-01,user100,150',\n",
    "    '2018-01-07,user99,205',\n",
    "    '2018-03-29,user1001,81'\n",
    "    ]\n",
    "\n",
    "    Результат:\n",
    "\n",
    "    Среднее количество просмотров на уникального пользователя: 145.33"
   ]
  },
  {
   "cell_type": "code",
   "execution_count": 66,
   "metadata": {},
   "outputs": [],
   "source": [
    "stream = [\n",
    "    '2018-01-01,user1,3',\n",
    "    '2018-01-07,user1,4',\n",
    "    '2018-03-29,user1,1',\n",
    "    '2018-04-04,user1,13',\n",
    "    '2018-01-05,user2,7',\n",
    "    '2018-06-14,user3,4',\n",
    "    '2018-07-02,user3,10',\n",
    "    '2018-03-21,user4,19',\n",
    "    '2018-03-22,user4,4',\n",
    "    '2018-04-22,user4,8',\n",
    "    '2018-05-03,user4,9',\n",
    "    '2018-05-11,user4,11',\n",
    "]"
   ]
  },
  {
   "cell_type": "code",
   "execution_count": null,
   "metadata": {},
   "outputs": [],
   "source": []
  },
  {
   "cell_type": "code",
   "execution_count": null,
   "metadata": {},
   "outputs": [],
   "source": []
  }
 ],
 "metadata": {
  "kernelspec": {
   "display_name": "Python 3",
   "language": "python",
   "name": "python3"
  },
  "language_info": {
   "codemirror_mode": {
    "name": "ipython",
    "version": 3
   },
   "file_extension": ".py",
   "mimetype": "text/x-python",
   "name": "python",
   "nbconvert_exporter": "python",
   "pygments_lexer": "ipython3",
   "version": "3.6.5"
  }
 },
 "nbformat": 4,
 "nbformat_minor": 2
}
