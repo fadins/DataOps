{
 "cells": [
  {
   "cell_type": "markdown",
   "metadata": {},
   "source": [
    "## Домашнее задание к лекции \"Введение в типы данных и циклы. Часть 2\"\n",
    "### Задание 1\n",
    "Дана переменная, в которой хранится словарь, содержащий гео-метки для каждого пользователя (пример структуры данных приведен ниже). Вам необходимо написать программу, которая выведет на экран множество уникальных гео-меток всех пользователей.\n",
    "\n",
    "Пример работы программы:\n",
    "\n",
    "    ids = {'user1': [213, 213, 213, 15, 213], \n",
    "           'user2': [54, 54, 119, 119, 119], \n",
    "           'user3': [213, 98, 98, 35]}\n",
    "    Результат: {98, 35, 15, 213, 54, 119}"
   ]
  },
  {
   "cell_type": "code",
   "execution_count": 1,
   "metadata": {},
   "outputs": [],
   "source": [
    "ids = {'user1': [213, 213, 213, 15, 213], \n",
    "       'user2': [54, 54, 119, 119, 119], \n",
    "       'user3': [213, 98, 98, 35]}\n"
   ]
  },
  {
   "cell_type": "code",
   "execution_count": 39,
   "metadata": {},
   "outputs": [
    {
     "data": {
      "text/plain": [
       "'Результат: {98, 35, 15, 213, 54, 119}'"
      ]
     },
     "execution_count": 39,
     "metadata": {},
     "output_type": "execute_result"
    }
   ],
   "source": [
    "geo_metki = set()\n",
    "for id in ids:\n",
    "    for value in ids[id]:\n",
    "        geo_metki.add(value)\n",
    "#     geo_metki.add(ids[id])\n",
    "'Результат: {}'.format(geo_metki)"
   ]
  },
  {
   "cell_type": "markdown",
   "metadata": {},
   "source": [
    "### Задание 2\n",
    "Дана переменная, в которой хранится список поисковых запросов пользователя (пример структуры данных приведен ниже). Вам необходимо написать программу, которая выведет на экран распределение количества слов в запросах в требуемом виде.\n",
    "\n",
    "    Пример работы программы:\n",
    "\n",
    "    queries = [\n",
    "        'смотреть сериалы онлайн',\n",
    "        'новости спорта',\n",
    "        'афиша кино',\n",
    "        'курс доллара',\n",
    "        'сериалы этим летом',\n",
    "        'курс по питону',\n",
    "        'сериалы про спорт',\n",
    "    ]\n",
    "    Результат:\n",
    "\n",
    "    Поисковых запросов, содержащих 2 слов(а): 42.86%\n",
    "    Поисковых запросов, содержащих 3 слов(а): 57.14%"
   ]
  },
  {
   "cell_type": "code",
   "execution_count": 74,
   "metadata": {},
   "outputs": [],
   "source": [
    "queries = [\n",
    "    'смотреть сериалы онлайн',\n",
    "    'новости спорта',\n",
    "    'афиша кино',\n",
    "    'курс доллара',\n",
    "    'сериалы этим летом',\n",
    "    'курс по питону',\n",
    "    'сериалы про спорт кек',\n",
    "]"
   ]
  },
  {
   "cell_type": "code",
   "execution_count": 75,
   "metadata": {},
   "outputs": [
    {
     "name": "stdout",
     "output_type": "stream",
     "text": [
      "Поисковых запросов содержащих 3 слов(а): 42.86%\n",
      "Поисковых запросов содержащих 2 слов(а): 42.86%\n",
      "Поисковых запросов содержащих 4 слов(а): 14.29%\n"
     ]
    }
   ],
   "source": [
    "queries_dict = {}\n",
    "for query in queries:\n",
    "#     print(len(query.split(' ')))\n",
    "    if len(query.split(' ')) in queries_dict:\n",
    "        queries_dict[len(query.split(' '))] += 1\n",
    "    else:\n",
    "        queries_dict[len(query.split(' '))] = 1\n",
    "for key in queries_dict:\n",
    "    percent_quaries = queries_dict[key]/len(queries)*100\n",
    "    print('Поисковых запросов содержащих {0} слов(а): {1}%'.format(key, round(percent_quaries,2)))"
   ]
  },
  {
   "cell_type": "markdown",
   "metadata": {},
   "source": [
    "### Задание 3\n",
    "Дана переменная, в которой хранится информация о затратах и доходе рекламных кампаний по различным источникам. Необходимо дополнить исходную структуру показателем ROI, который рассчитаем по формуле: (revenue / cost - 1) * 100\n",
    "\n",
    "    Пример работы программы:\n",
    "\n",
    "    results = {\n",
    "        'vk': {'revenue': 103, 'cost': 98},\n",
    "        'yandex': {'revenue': 179, 'cost': 153},\n",
    "        'facebook': {'revenue': 103, 'cost': 110},\n",
    "        'adwords': {'revenue': 35, 'cost': 34},\n",
    "        'twitter': {'revenue': 11, 'cost': 24},\n",
    "    }\n",
    "    Результат:\n",
    "\n",
    "    {'adwords': {'revenue': 35, 'cost': 34, 'ROI': 2.94},\n",
    "     'facebook': {'revenue': 103, 'cost': 110, 'ROI': -6.36},\n",
    "     'twitter': {'revenue': 11, 'cost': 24, 'ROI': -54.17},\n",
    "     'vk': {'revenue': 103, 'cost': 98, 'ROI': 5.1},\n",
    "     'yandex': {'revenue': 179, 'cost': 153, 'ROI': 16.99}}"
   ]
  },
  {
   "cell_type": "code",
   "execution_count": 76,
   "metadata": {},
   "outputs": [],
   "source": [
    "results = {\n",
    "    'vk': {'revenue': 103, 'cost': 98},\n",
    "    'yandex': {'revenue': 179, 'cost': 153},\n",
    "    'facebook': {'revenue': 103, 'cost': 110},\n",
    "    'adwords': {'revenue': 35, 'cost': 34},\n",
    "    'twitter': {'revenue': 11, 'cost': 24},\n",
    "}"
   ]
  },
  {
   "cell_type": "code",
   "execution_count": 82,
   "metadata": {},
   "outputs": [],
   "source": [
    "for result in results:\n",
    "    results[result]['ROI'] = round((results[result]['revenue']/results[result]['cost']-1)*100,2)"
   ]
  },
  {
   "cell_type": "code",
   "execution_count": 86,
   "metadata": {},
   "outputs": [
    {
     "name": "stdout",
     "output_type": "stream",
     "text": [
      "Результат: \t {'vk': {'revenue': 103, 'cost': 98, 'ROI': 5.1}, 'yandex': {'revenue': 179, 'cost': 153, 'ROI': 16.99}, 'facebook': {'revenue': 103, 'cost': 110, 'ROI': -6.36}, 'adwords': {'revenue': 35, 'cost': 34, 'ROI': 2.94}, 'twitter': {'revenue': 11, 'cost': 24, 'ROI': -54.17}}\n"
     ]
    }
   ],
   "source": [
    "print('Результат: \\t {}'.format(results))"
   ]
  },
  {
   "cell_type": "markdown",
   "metadata": {},
   "source": [
    "###### А можно ли как-то заставить выглядеть красиво данный вывод результата(построчно)?)"
   ]
  },
  {
   "cell_type": "markdown",
   "metadata": {},
   "source": [
    "### Задание 4\n",
    "Дана переменная, в которой хранится статистика рекламных каналов по объемам продаж (пример структуры данных приведен ниже). Напишите программу, которая возвращает название канала с максимальным объемом продаж.\n",
    "\n",
    "    Пример работы программы:\n",
    "\n",
    "    stats = {'facebook': 55, 'yandex': 115, 'vk': 120, 'google': 99, 'email': 42, 'ok': 98}\n",
    "\n",
    "    Результат: Максимальный объем продаж на рекламном канале: vk"
   ]
  },
  {
   "cell_type": "code",
   "execution_count": 99,
   "metadata": {},
   "outputs": [],
   "source": [
    "stats = {'facebook': 55, 'yandex': 120, 'vk': 120, 'google': 99, 'email': 42, 'ok': 98}"
   ]
  },
  {
   "cell_type": "code",
   "execution_count": 100,
   "metadata": {},
   "outputs": [],
   "source": [
    "max_value_stats = max(stats.values())"
   ]
  },
  {
   "cell_type": "markdown",
   "metadata": {},
   "source": [
    "##### Надеюсь использование функции max это не читерство)) \n",
    "И если каналов будет несколько он выведет все"
   ]
  },
  {
   "cell_type": "code",
   "execution_count": 103,
   "metadata": {},
   "outputs": [
    {
     "name": "stdout",
     "output_type": "stream",
     "text": [
      "Максимальный объём продаж на рекламном канале: yandex, vk\n"
     ]
    }
   ],
   "source": [
    "max_value_comp = []\n",
    "for i in stats:\n",
    "    if stats[i] == max_value_stats:\n",
    "        max_value_comp.append(i)\n",
    "print('Максимальный объём продаж на рекламном канале: {}'.format(', '.join(max_value_comp)))"
   ]
  },
  {
   "cell_type": "markdown",
   "metadata": {},
   "source": [
    "### Задание 5 (необязательно)\n",
    "Дан список произвольной длины. Необходимо написать код, который на основе исходного списка составит словарь такого уровня вложенности, какова длина исхондого списка.\n",
    "\n",
    "    Примеры работы программы:\n",
    "\n",
    "    my_list = ['2018-01-01', 'yandex', 'cpc', 100]\n",
    "    Результат: {'2018-01-01': {'yandex': {'cpc': 100}}}\n",
    "\n",
    "    my_list = ['a', 'b', 'c', 'd', 'e', 'f']\n",
    "    Результат: {'a': {'b': {'c': {'d': {'e': 'f'}}}}}"
   ]
  },
  {
   "cell_type": "code",
   "execution_count": 215,
   "metadata": {},
   "outputs": [],
   "source": [
    "my_list = ['2018-01-01', 'yandex', 'cpc', 100]"
   ]
  },
  {
   "cell_type": "code",
   "execution_count": 216,
   "metadata": {},
   "outputs": [
    {
     "name": "stdout",
     "output_type": "stream",
     "text": [
      "{'2018-01-01': {'yandex': {'cpc', 100}}}\n"
     ]
    }
   ],
   "source": [
    "my_set = {}\n",
    "\n",
    "if len(my_list) == 2:\n",
    "    my_set = {my_list[0], my_list[1]}\n",
    "if len(my_list) == 1:\n",
    "    my_set = {my_list[0]}\n",
    "else:\n",
    "    last_value = {my_list[-2],my_list[-1]}\n",
    "    for item in range(len(my_list)-2):\n",
    "#         print(my_list)\n",
    "        my_set = ({my_list[-3]:last_value})\n",
    "#         print(my_set)\n",
    "        last_value = my_set\n",
    "#         print(last_value)\n",
    "        del my_list[-1]\n",
    "print(my_set)"
   ]
  },
  {
   "cell_type": "markdown",
   "metadata": {},
   "source": [
    "### Задание 6 (необязательно)\n",
    "Дана книга рецептов с информацией о том, сколько ингредиентов нужно для приготовления блюда в расчете на одну порцию (пример данных представлен ниже).\n",
    "Напишите программу, которая будет запрашивать у пользователя количество порций для приготовления этих блюд и отображать информацию о суммарном количестве требуемых ингредиентов в указанном виде.\n",
    "Внимание! Одинаковые ингридиенты с разными размерностями нужно считать раздельно!\n",
    "    Пример работы программы:\n",
    "\n",
    "    cook_book = {\n",
    "      'салат': [\n",
    "         {'ingridient_name': 'сыр', 'quantity': 50, 'measure': 'гр'},\n",
    "         {'ingridient_name': 'томаты', 'quantity': 2, 'measure': 'шт'},\n",
    "         {'ingridient_name': 'огурцы', 'quantity': 20, 'measure': 'гр'},\n",
    "         {'ingridient_name': 'маслины', 'quantity': 10, 'measure': 'гр'},\n",
    "         {'ingridient_name': 'оливковое масло', 'quantity': 20, 'measure': 'мл'},\n",
    "         {'ingridient_name': 'салат', 'quantity': 10, 'measure': 'гр'},\n",
    "         {'ingridient_name': 'перец', 'quantity': 20, 'measure': 'гр'}\n",
    "        ],\n",
    "      'пицца': [\n",
    "         {'ingridient_name': 'сыр', 'quantity': 20, 'measure': 'гр'},\n",
    "         {'ingridient_name': 'колбаса', 'quantity': 30, 'measure': 'гр'},\n",
    "         {'ingridient_name': 'бекон', 'quantity': 30, 'measure': 'гр'},\n",
    "         {'ingridient_name': 'оливки', 'quantity': 10, 'measure': 'гр'},\n",
    "         {'ingridient_name': 'томаты', 'quantity': 20, 'measure': 'гр'},\n",
    "         {'ingridient_name': 'тесто', 'quantity': 100, 'measure': 'гр'},   \n",
    "        ],\n",
    "      'лимонад': [\n",
    "         {'ingridient_name': 'лимон', 'quantity': 1, 'measure': 'шт'},\n",
    "         {'ingridient_name': 'вода', 'quantity': 200, 'measure': 'мл'},\n",
    "         {'ingridient_name': 'сахар', 'quantity': 10, 'measure': 'гр'},\n",
    "         {'ingridient_name': 'лайм', 'quantity': 20, 'measure': 'гр'},    \n",
    "        ]\n",
    "    }\n",
    "\n",
    "    Введите количество порций:  \n",
    "    3\n",
    "    Результат:\n",
    "\n",
    "    Сыр: 210 гр  \n",
    "    Томаты: 6 шт  \n",
    "    Огурцы: 60 гр  \n",
    "    Маслины: 30 гр  \n",
    "    Оливковое масло: 60 мл  \n",
    "    Салат: 30 гр  \n",
    "    Перец: 60 гр  \n",
    "    Колбаса: 90 гр  \n",
    "    Бекон: 90 гр  \n",
    "    Оливки: 30 гр  \n",
    "    Томаты: 60 гр  \n",
    "    Тесто: 300 гр  \n",
    "    Лимон: 3 шт  \n",
    "    Вода: 600 мл  \n",
    "    Сахар: 30 гр  \n",
    "    Лайм: 60 гр"
   ]
  },
  {
   "cell_type": "code",
   "execution_count": 217,
   "metadata": {},
   "outputs": [],
   "source": [
    "cook_book = {\n",
    "  'салат': [\n",
    "     {'ingridient_name': 'сыр', 'quantity': 50, 'measure': 'гр'},\n",
    "     {'ingridient_name': 'томаты', 'quantity': 2, 'measure': 'шт'},\n",
    "     {'ingridient_name': 'огурцы', 'quantity': 20, 'measure': 'гр'},\n",
    "     {'ingridient_name': 'маслины', 'quantity': 10, 'measure': 'гр'},\n",
    "     {'ingridient_name': 'оливковое масло', 'quantity': 20, 'measure': 'мл'},\n",
    "     {'ingridient_name': 'салат', 'quantity': 10, 'measure': 'гр'},\n",
    "     {'ingridient_name': 'перец', 'quantity': 20, 'measure': 'гр'}\n",
    "    ],\n",
    "  'пицца': [\n",
    "     {'ingridient_name': 'сыр', 'quantity': 20, 'measure': 'гр'},\n",
    "     {'ingridient_name': 'колбаса', 'quantity': 30, 'measure': 'гр'},\n",
    "     {'ingridient_name': 'бекон', 'quantity': 30, 'measure': 'гр'},\n",
    "     {'ingridient_name': 'оливки', 'quantity': 10, 'measure': 'гр'},\n",
    "     {'ingridient_name': 'томаты', 'quantity': 20, 'measure': 'гр'},\n",
    "     {'ingridient_name': 'тесто', 'quantity': 100, 'measure': 'гр'},   \n",
    "    ],\n",
    "  'лимонад': [\n",
    "     {'ingridient_name': 'лимон', 'quantity': 1, 'measure': 'шт'},\n",
    "     {'ingridient_name': 'вода', 'quantity': 200, 'measure': 'мл'},\n",
    "     {'ingridient_name': 'сахар', 'quantity': 10, 'measure': 'гр'},\n",
    "     {'ingridient_name': 'лайм', 'quantity': 20, 'measure': 'гр'},    \n",
    "    ]\n",
    "}"
   ]
  },
  {
   "cell_type": "code",
   "execution_count": 324,
   "metadata": {
    "scrolled": true
   },
   "outputs": [
    {
     "name": "stdout",
     "output_type": "stream",
     "text": [
      "Введите количество порций: 3\n",
      "сыр: 210 гр\n",
      "томаты: 6 шт\n",
      "огурцы: 60 гр\n",
      "маслины: 30 гр\n",
      "оливковое масло: 60 мл\n",
      "салат: 30 гр\n",
      "перец: 60 гр\n",
      "колбаса: 90 гр\n",
      "бекон: 90 гр\n",
      "оливки: 30 гр\n",
      "томаты: 60 гр\n",
      "тесто: 300 гр\n",
      "лимон: 3 шт\n",
      "вода: 600 мл\n",
      "сахар: 30 гр\n",
      "лайм: 60 гр\n"
     ]
    }
   ],
   "source": [
    "portions = int(input('Введите количество порций: '))\n",
    "final_ingridients = {}\n",
    "for dish in cook_book.values():\n",
    "#     print(dish)\n",
    "    for ingridient in dish:\n",
    "        tuple_ingridients = (ingridient['ingridient_name'],ingridient['measure'])\n",
    "#         print(tuple_ingridients)\n",
    "        if tuple_ingridients in final_ingridients:\n",
    "            final_ingridients[tuple_ingridients] += ingridient['quantity'] * portions\n",
    "        else:\n",
    "            final_ingridients[tuple_ingridients] = ingridient['quantity'] * portions\n",
    "for ingridient in final_ingridients:\n",
    "    print('{}: {} {}'.format(ingridient[0], final_ingridients[ingridient], ingridient[1]))"
   ]
  },
  {
   "cell_type": "code",
   "execution_count": null,
   "metadata": {},
   "outputs": [],
   "source": []
  }
 ],
 "metadata": {
  "kernelspec": {
   "display_name": "Python 3",
   "language": "python",
   "name": "python3"
  },
  "language_info": {
   "codemirror_mode": {
    "name": "ipython",
    "version": 3
   },
   "file_extension": ".py",
   "mimetype": "text/x-python",
   "name": "python",
   "nbconvert_exporter": "python",
   "pygments_lexer": "ipython3",
   "version": "3.6.5"
  }
 },
 "nbformat": 4,
 "nbformat_minor": 2
}
