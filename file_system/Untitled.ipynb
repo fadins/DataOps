{
 "cells": [
  {
   "cell_type": "code",
   "execution_count": null,
   "metadata": {},
   "outputs": [],
   "source": []
  },
  {
   "cell_type": "markdown",
   "metadata": {},
   "source": [
    "### Домашнее задание к лекции Работа с файловой системой и модули\n",
    "\n",
    "Переведите содержимое файла purchase_log.txt в словарь purchases вида:\n",
    " * {‘1840e0b9d4’: ‘Продукты’, …}\n",
    "\n",
    "Для каждого user_id в файле visit_log.csv определите третий столбец с категорией покупки (если покупка была, сам файл visit_log.csv изменять не надо). Запишите в файл funnel.csv визиты из файла visit_log.csv, в которых были покупки с указанием категории.\n",
    "* Учтите условия на данные:\n",
    "* содержимое purchase_log.txt помещается в оперативную память компьютера\n",
    "* содержимое visit_log.csv - нет; используйте только построчную обработку этого файла"
   ]
  },
  {
   "cell_type": "code",
   "execution_count": 30,
   "metadata": {},
   "outputs": [],
   "source": [
    "import json"
   ]
  },
  {
   "cell_type": "markdown",
   "metadata": {},
   "source": [
    "### 1 Задача"
   ]
  },
  {
   "cell_type": "code",
   "execution_count": 196,
   "metadata": {},
   "outputs": [],
   "source": [
    "dict_for_file = {}\n",
    "with open('purchase_log.txt', 'r', encoding= 'UTF-8') as file:\n",
    "    with open('purchases.txt', 'w') as new_file:\n",
    "        for line in file:\n",
    "            new_str = json.loads(line)\n",
    "            dict_for_file[new_str['user_id']] = new_str['category'] \n",
    "        new_file.write(json.dumps(dict_for_file))\n",
    "        #так и не понял как лучше через json или через str записывать в файл?"
   ]
  },
  {
   "cell_type": "code",
   "execution_count": null,
   "metadata": {},
   "outputs": [],
   "source": []
  },
  {
   "cell_type": "code",
   "execution_count": 202,
   "metadata": {
    "scrolled": true
   },
   "outputs": [
    {
     "name": "stdout",
     "output_type": "stream",
     "text": [
      "{'user_id': 'user_id', 'category': 'category'}\n",
      "{'user_id': '1840e0b9d4', 'category': 'Продукты'}\n",
      "{'user_id': '4e4f90fcfb', 'category': 'Электроника'}\n",
      "{'user_id': 'afea8d72fc', 'category': 'Электроника'}\n",
      "{'user_id': '373a6055fe', 'category': 'Бытовая техника'}\n",
      "{'user_id': '9b2ab046f3', 'category': 'Электроника'}\n"
     ]
    }
   ],
   "source": [
    "i = 0\n",
    "with open('purchase_log.txt', encoding='utf-8') as f:\n",
    "    for line in f:\n",
    "        print(json.loads(line))\n",
    "\n",
    "        i += 1\n",
    "        if i > 5:\n",
    "            break"
   ]
  },
  {
   "cell_type": "markdown",
   "metadata": {},
   "source": [
    "### 2 Задача, 1 Вариант"
   ]
  },
  {
   "cell_type": "code",
   "execution_count": 220,
   "metadata": {},
   "outputs": [],
   "source": [
    "list_of_purchase = []\n",
    "with open('purchase_log.txt', encoding= 'utf-8') as f:\n",
    "    for line in f:\n",
    "        dict_ = json.loads(line)\n",
    "        list_of_purchase.append(dict_)\n",
    "# print(list_of_purchase)"
   ]
  },
  {
   "cell_type": "code",
   "execution_count": 258,
   "metadata": {
    "scrolled": true
   },
   "outputs": [],
   "source": [
    "def prod_name(user_id):\n",
    "    for purchase in list_of_purchase:\n",
    "        if user_id in purchase['user_id']:\n",
    "            return(purchase['category'])\n",
    "    return None\n",
    "\n",
    "\n",
    "\n",
    "\n",
    "with open('funnel.csv', 'w') as funnel:\n",
    "    with open('visit_log.csv', 'r') as f:\n",
    "        for line in f:\n",
    "            user_id = line.strip().split(',')[0]\n",
    "#             print(user_id)\n",
    "            category = prod_name(user_id)\n",
    "            if category is not None:\n",
    "                final_line = line.strip() +','+str(category)+ '\\n'\n",
    "                funnel.write(final_line)\n",
    "                \n",
    "#отрабатывает, но долго.\n"
   ]
  },
  {
   "cell_type": "markdown",
   "metadata": {},
   "source": [
    "### 2  задача, 2 вариант "
   ]
  },
  {
   "cell_type": "code",
   "execution_count": 273,
   "metadata": {},
   "outputs": [],
   "source": [
    "dict_1 = {}\n",
    "with open('purchase_log.txt', encoding= 'utf-8') as f:\n",
    "    for line in f:\n",
    "        dict_1[json.loads(line)['user_id']] = json.loads(line)['category']\n"
   ]
  },
  {
   "cell_type": "code",
   "execution_count": 278,
   "metadata": {},
   "outputs": [],
   "source": [
    "def prod_name(user_id):\n",
    "    if user_id in dict_1.keys():\n",
    "        return(dict_1[user_id])\n",
    "    return None\n",
    "\n",
    "with open('funnel.csv', 'w') as funnel:\n",
    "    with open('visit_log.csv', 'r') as f:\n",
    "        for line in f:\n",
    "            user_id = line.strip().split(',')[0]\n",
    "#             print(user_id)\n",
    "            category = prod_name(user_id)\n",
    "            if category is not None:\n",
    "                final_line = line.strip() +','+str(category)+ '\\n'\n",
    "                funnel.write(final_line)"
   ]
  },
  {
   "cell_type": "code",
   "execution_count": null,
   "metadata": {},
   "outputs": [],
   "source": []
  }
 ],
 "metadata": {
  "kernelspec": {
   "display_name": "Python 3",
   "language": "python",
   "name": "python3"
  },
  "language_info": {
   "codemirror_mode": {
    "name": "ipython",
    "version": 3
   },
   "file_extension": ".py",
   "mimetype": "text/x-python",
   "name": "python",
   "nbconvert_exporter": "python",
   "pygments_lexer": "ipython3",
   "version": "3.6.5"
  }
 },
 "nbformat": 4,
 "nbformat_minor": 2
}
